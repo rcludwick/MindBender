{
 "cells": [
  {
   "cell_type": "markdown",
   "metadata": {
    "slideshow": {
     "slide_type": "slide"
    }
   },
   "source": [
    "\n",
    "Mind Bender\n",
    "=======\n",
    "\n",
    "A deep dive into the beast. \n",
    "---------------------------------------------\n",
    "\n",
    "\n",
    "Rob Ludwick -- Boise Python Meetup\n",
    "\n",
    "June 8, 2015\n",
    "\n",
    "\n"
   ]
  },
  {
   "cell_type": "markdown",
   "metadata": {},
   "source": [
    "![QR Code](./chart.png)"
   ]
  },
  {
   "cell_type": "markdown",
   "metadata": {
    "slideshow": {
     "slide_type": "slide"
    }
   },
   "source": [
    "Why?\n",
    "====\n",
    "\n",
    "To break through to a higher level of python awareness\n"
   ]
  },
  {
   "cell_type": "markdown",
   "metadata": {},
   "source": [
    "Iterators\n",
    "============\n",
    "\n",
    "\n",
    "So you're familiar with iterators and list comprehensions."
   ]
  },
  {
   "cell_type": "code",
   "execution_count": 135,
   "metadata": {
    "collapsed": false
   },
   "outputs": [
    {
     "data": {
      "text/plain": [
       "[0, 1, 4, 9, 16, 25, 36, 49, 64, 81]"
      ]
     },
     "execution_count": 135,
     "metadata": {},
     "output_type": "execute_result"
    }
   ],
   "source": [
    "[ x**2 for x in range(10) ]"
   ]
  },
  {
   "cell_type": "code",
   "execution_count": 136,
   "metadata": {
    "collapsed": false
   },
   "outputs": [
    {
     "name": "stdout",
     "output_type": "stream",
     "text": [
      "0\n",
      "1\n",
      "2\n",
      "done\n"
     ]
    }
   ],
   "source": [
    "y = iter(range(3))\n",
    "\n",
    "try:\n",
    "    while True:\n",
    "        print next(y)\n",
    "except StopIteration:\n",
    "    print \"done\""
   ]
  },
  {
   "cell_type": "markdown",
   "metadata": {},
   "source": [
    "Implementing your own iterator\n",
    "===============================================\n"
   ]
  },
  {
   "cell_type": "code",
   "execution_count": 137,
   "metadata": {
    "collapsed": true
   },
   "outputs": [],
   "source": [
    "class infinite_zeros(object):\n",
    "    \n",
    "    def next(self):\n",
    "        return 0\n",
    "    \n",
    "    def __iter__(self):\n",
    "        return self"
   ]
  },
  {
   "cell_type": "code",
   "execution_count": 138,
   "metadata": {
    "collapsed": false
   },
   "outputs": [
    {
     "name": "stdout",
     "output_type": "stream",
     "text": [
      "0\n",
      "0\n"
     ]
    }
   ],
   "source": [
    "iz = infinite_zeros()\n",
    "\n",
    "print next(iz)\n",
    "print iz.next()\n",
    "\n"
   ]
  },
  {
   "cell_type": "code",
   "execution_count": 139,
   "metadata": {
    "collapsed": false
   },
   "outputs": [
    {
     "data": {
      "text/plain": [
       "0"
      ]
     },
     "execution_count": 139,
     "metadata": {},
     "output_type": "execute_result"
    }
   ],
   "source": [
    "z = iter(iz)\n",
    "z.next()"
   ]
  },
  {
   "cell_type": "markdown",
   "metadata": {},
   "source": [
    "That's interesting, but not useful.  Let's get the factors of a number."
   ]
  },
  {
   "cell_type": "code",
   "execution_count": 140,
   "metadata": {
    "collapsed": true
   },
   "outputs": [],
   "source": [
    "import math\n",
    "class factors(object):\n",
    "    \n",
    "    def __init__(self, num):\n",
    "        self.num = num\n",
    "        self.idx = 0\n",
    "        \n",
    "    def next(self):\n",
    "        while self.idx <= self.num:\n",
    "            self.idx += 1\n",
    "            if self.num % self.idx == 0:\n",
    "                return self.idx\n",
    "        raise StopIteration\n",
    "            \n",
    "    def __iter__(self):\n",
    "        return self"
   ]
  },
  {
   "cell_type": "code",
   "execution_count": 141,
   "metadata": {
    "collapsed": false
   },
   "outputs": [
    {
     "name": "stdout",
     "output_type": "stream",
     "text": [
      "1\n",
      "2\n",
      "4\n",
      "5\n",
      "10\n",
      "20\n"
     ]
    }
   ],
   "source": [
    "for x in factors(20):\n",
    "    print x"
   ]
  },
  {
   "cell_type": "code",
   "execution_count": 142,
   "metadata": {
    "collapsed": false
   },
   "outputs": [
    {
     "name": "stdout",
     "output_type": "stream",
     "text": [
      "1\n",
      "17\n"
     ]
    }
   ],
   "source": [
    "for x in factors(17):\n",
    "    print x"
   ]
  },
  {
   "cell_type": "code",
   "execution_count": 143,
   "metadata": {
    "collapsed": false
   },
   "outputs": [
    {
     "data": {
      "text/plain": [
       "[1, 5, 13, 25, 65, 325]"
      ]
     },
     "execution_count": 143,
     "metadata": {},
     "output_type": "execute_result"
    }
   ],
   "source": [
    "[z for z in factors(325)]\n"
   ]
  },
  {
   "cell_type": "markdown",
   "metadata": {},
   "source": [
    "So what's the difference between this and a generator?\n",
    "\n",
    "A generator automatically saves state"
   ]
  },
  {
   "cell_type": "code",
   "execution_count": 144,
   "metadata": {
    "collapsed": true
   },
   "outputs": [],
   "source": [
    "def factors(num):\n",
    "    for idx in range(1, num):\n",
    "        if num % idx == 0:\n",
    "            yield idx\n",
    "    yield num"
   ]
  },
  {
   "cell_type": "code",
   "execution_count": 145,
   "metadata": {
    "collapsed": false
   },
   "outputs": [
    {
     "name": "stdout",
     "output_type": "stream",
     "text": [
      "1\n",
      "2\n",
      "4\n",
      "5\n",
      "10\n",
      "20\n"
     ]
    }
   ],
   "source": [
    "for x in factors(20):\n",
    "    print x"
   ]
  },
  {
   "cell_type": "markdown",
   "metadata": {},
   "source": [
    "So what about the StopIteration?\n",
    "\n",
    "It's handled automatically by the generator."
   ]
  },
  {
   "cell_type": "code",
   "execution_count": 146,
   "metadata": {
    "collapsed": false
   },
   "outputs": [
    {
     "name": "stdout",
     "output_type": "stream",
     "text": [
      "1\n",
      "2\n",
      "4\n"
     ]
    }
   ],
   "source": [
    "y = factors(4)\n",
    "print next(y)\n",
    "print next(y)\n",
    "print next(y)\n"
   ]
  },
  {
   "cell_type": "markdown",
   "metadata": {},
   "source": [
    "The next(y) will return a StopIteration."
   ]
  },
  {
   "cell_type": "code",
   "execution_count": 147,
   "metadata": {
    "collapsed": false
   },
   "outputs": [
    {
     "ename": "StopIteration",
     "evalue": "",
     "output_type": "error",
     "traceback": [
      "\u001b[1;31m---------------------------------------------------------------------------\u001b[0m",
      "\u001b[1;31mStopIteration\u001b[0m                             Traceback (most recent call last)",
      "\u001b[1;32m<ipython-input-147-30d3aee69d2d>\u001b[0m in \u001b[0;36m<module>\u001b[1;34m()\u001b[0m\n\u001b[1;32m----> 1\u001b[1;33m \u001b[1;32mprint\u001b[0m \u001b[0mnext\u001b[0m\u001b[1;33m(\u001b[0m\u001b[0my\u001b[0m\u001b[1;33m)\u001b[0m\u001b[1;33m\u001b[0m\u001b[0m\n\u001b[0m",
      "\u001b[1;31mStopIteration\u001b[0m: "
     ]
    }
   ],
   "source": [
    "print next(y)"
   ]
  },
  {
   "cell_type": "markdown",
   "metadata": {},
   "source": [
    "Now let's chain iterators"
   ]
  },
  {
   "cell_type": "code",
   "execution_count": 148,
   "metadata": {
    "collapsed": true
   },
   "outputs": [],
   "source": [
    "def square(num_iter):\n",
    "    while True:\n",
    "        yield next(num_iter) ** 2"
   ]
  },
  {
   "cell_type": "code",
   "execution_count": 149,
   "metadata": {
    "collapsed": false
   },
   "outputs": [
    {
     "data": {
      "text/plain": [
       "[1, 4, 16, 25, 100, 400]"
      ]
     },
     "execution_count": 149,
     "metadata": {},
     "output_type": "execute_result"
    }
   ],
   "source": [
    "[ x for x in square(factors(20)) ]"
   ]
  },
  {
   "cell_type": "markdown",
   "metadata": {},
   "source": [
    "Alternatively:"
   ]
  },
  {
   "cell_type": "code",
   "execution_count": 150,
   "metadata": {
    "collapsed": true
   },
   "outputs": [],
   "source": [
    "def square(num_iter):\n",
    "    for num in num_iter:\n",
    "        yield num ** 2"
   ]
  },
  {
   "cell_type": "code",
   "execution_count": 151,
   "metadata": {
    "collapsed": false
   },
   "outputs": [
    {
     "data": {
      "text/plain": [
       "[1, 4, 16, 25, 100, 400]"
      ]
     },
     "execution_count": 151,
     "metadata": {},
     "output_type": "execute_result"
    }
   ],
   "source": [
    "[ x for x in square(factors(20)) ]"
   ]
  },
  {
   "cell_type": "markdown",
   "metadata": {},
   "source": [
    "Function Objects and Closures\n",
    "=========\n",
    "\n",
    "The first step to understanding decorators\n",
    "---------------"
   ]
  },
  {
   "cell_type": "code",
   "execution_count": 152,
   "metadata": {
    "collapsed": false
   },
   "outputs": [
    {
     "name": "stdout",
     "output_type": "stream",
     "text": [
      "<type 'function'>\n"
     ]
    }
   ],
   "source": [
    "def y(n):\n",
    "    return n * 2\n",
    "\n",
    "print type(y)\n"
   ]
  },
  {
   "cell_type": "markdown",
   "metadata": {},
   "source": [
    "Note the special call() function:"
   ]
  },
  {
   "cell_type": "code",
   "execution_count": 153,
   "metadata": {
    "collapsed": false
   },
   "outputs": [
    {
     "data": {
      "text/plain": [
       "4"
      ]
     },
     "execution_count": 153,
     "metadata": {},
     "output_type": "execute_result"
    }
   ],
   "source": [
    "y.__call__(2)"
   ]
  },
  {
   "cell_type": "code",
   "execution_count": 154,
   "metadata": {
    "collapsed": true
   },
   "outputs": [],
   "source": [
    "def z(f, n):\n",
    "    return f(n) + 1"
   ]
  },
  {
   "cell_type": "markdown",
   "metadata": {},
   "source": [
    "Since a function is an object, I can pass a function into another function:"
   ]
  },
  {
   "cell_type": "code",
   "execution_count": 155,
   "metadata": {
    "collapsed": false
   },
   "outputs": [
    {
     "data": {
      "text/plain": [
       "5"
      ]
     },
     "execution_count": 155,
     "metadata": {},
     "output_type": "execute_result"
    }
   ],
   "source": [
    "z(y, 2)"
   ]
  },
  {
   "cell_type": "markdown",
   "metadata": {},
   "source": [
    "And because a function is an object I can return a function."
   ]
  },
  {
   "cell_type": "code",
   "execution_count": 156,
   "metadata": {
    "collapsed": true
   },
   "outputs": [],
   "source": [
    "def get_func():\n",
    "    def func(y):\n",
    "        return y * 2\n",
    "    return func\n"
   ]
  },
  {
   "cell_type": "code",
   "execution_count": 157,
   "metadata": {
    "collapsed": false
   },
   "outputs": [
    {
     "name": "stdout",
     "output_type": "stream",
     "text": [
      "6\n"
     ]
    }
   ],
   "source": [
    "z = get_func()\n",
    "print z(3)"
   ]
  },
  {
   "cell_type": "markdown",
   "metadata": {
    "collapsed": true
   },
   "source": [
    "A closure is a function that has access to a variable in an enclosing stack frame after it has exited."
   ]
  },
  {
   "cell_type": "code",
   "execution_count": 158,
   "metadata": {
    "collapsed": true
   },
   "outputs": [],
   "source": [
    "def get_factor_func(num):\n",
    "    def get_factors():\n",
    "        z = [x for x in range(1, num+1) if num % x == 0]\n",
    "        return z\n",
    "    return get_factors"
   ]
  },
  {
   "cell_type": "code",
   "execution_count": 159,
   "metadata": {
    "collapsed": true
   },
   "outputs": [],
   "source": [
    "f = get_factor_func(200)  # This doesn't do anything"
   ]
  },
  {
   "cell_type": "code",
   "execution_count": 160,
   "metadata": {
    "collapsed": false
   },
   "outputs": [
    {
     "data": {
      "text/plain": [
       "[1, 2, 4, 5, 8, 10, 20, 25, 40, 50, 100, 200]"
      ]
     },
     "execution_count": 160,
     "metadata": {},
     "output_type": "execute_result"
    }
   ],
   "source": [
    "f()"
   ]
  },
  {
   "cell_type": "markdown",
   "metadata": {},
   "source": [
    "Decorators\n",
    "========="
   ]
  },
  {
   "cell_type": "markdown",
   "metadata": {},
   "source": [
    "Decorators are closures that modify or replace a function's behavior."
   ]
  },
  {
   "cell_type": "code",
   "execution_count": 161,
   "metadata": {
    "collapsed": true
   },
   "outputs": [],
   "source": [
    "def log(f):\n",
    "    def logger(*args, **kwargs):\n",
    "        print \"{} called with args={}, kwargs={}\".format(f.__name__, args, kwargs)\n",
    "        result = f(*args, **kwargs)\n",
    "        print \"{} returned {}\".format(f.__name__, result)\n",
    "        return result\n",
    "    return logger\n",
    "\n"
   ]
  },
  {
   "cell_type": "code",
   "execution_count": 162,
   "metadata": {
    "collapsed": false
   },
   "outputs": [
    {
     "name": "stdout",
     "output_type": "stream",
     "text": [
      "cube called with args=(3,), kwargs={}\n",
      "cube returned 27\n"
     ]
    }
   ],
   "source": [
    "def cube(num):\n",
    "    return num ** 3\n",
    "\n",
    "cube = log(cube)\n",
    "\n",
    "z = cube(3)"
   ]
  },
  {
   "cell_type": "code",
   "execution_count": 163,
   "metadata": {
    "collapsed": false
   },
   "outputs": [
    {
     "name": "stdout",
     "output_type": "stream",
     "text": [
      "cube called with args=(2,), kwargs={}\n",
      "cube returned 8\n"
     ]
    }
   ],
   "source": [
    "@log\n",
    "def cube(num):\n",
    "    return num ** 3\n",
    "\n",
    "z = cube(2)"
   ]
  },
  {
   "cell_type": "markdown",
   "metadata": {},
   "source": [
    "But we can do this with a class too:"
   ]
  },
  {
   "cell_type": "code",
   "execution_count": 164,
   "metadata": {
    "collapsed": true
   },
   "outputs": [],
   "source": [
    "class counter(object):\n",
    "    \"\"\"Returns a count of when a function was called.\"\"\"\n",
    "    \n",
    "    def __init__(self, f):\n",
    "        self.count = 0\n",
    "        self.f = f\n",
    "    \n",
    "    def __call__(self, *args, **kwargs):\n",
    "        self.count += 1\n",
    "        return self.f(*args, **kwargs)\n",
    "    \n",
    "    def get_count(self):\n",
    "        return self.count\n",
    "        \n"
   ]
  },
  {
   "cell_type": "code",
   "execution_count": 165,
   "metadata": {
    "collapsed": false
   },
   "outputs": [
    {
     "name": "stdout",
     "output_type": "stream",
     "text": [
      "10\n"
     ]
    }
   ],
   "source": [
    "@counter\n",
    "def cube(num):\n",
    "    return num ** 3\n",
    "\n",
    "for idx in range(10):\n",
    "    z = cube(idx)\n",
    "\n",
    "print cube.get_count()"
   ]
  },
  {
   "cell_type": "markdown",
   "metadata": {},
   "source": [
    "And there are a few useful cases for this:"
   ]
  },
  {
   "cell_type": "code",
   "execution_count": 166,
   "metadata": {
    "collapsed": false
   },
   "outputs": [],
   "source": [
    "class memoize(object):\n",
    "    \n",
    "    def __init__(self, f):\n",
    "        self.cache = {}\n",
    "        self.f = f\n",
    "    \n",
    "    def __call__(self, *args, **kwargs):\n",
    "        key = (tuple(args), tuple(kwargs))\n",
    "        if key not in self.cache:\n",
    "            self.cache[key] = self.f(*args, **kwargs)\n",
    "        return self.cache[key]\n",
    "    \n",
    "\n",
    "import math\n",
    "\n",
    "@memoize\n",
    "def is_prime(n):\n",
    "    \"\"\"Is n prime?\"\"\"\n",
    "    if n == 1:\n",
    "        return False\n",
    "    if n == 2:\n",
    "        return True\n",
    "    elif n == 3:\n",
    "        return True\n",
    "    else:\n",
    "        for idx in range(1, int(math.sqrt(n))+1):\n",
    "            if is_prime(idx):\n",
    "                if n % idx == 0:\n",
    "                    return False\n",
    "        return True\n",
    "\n",
    "@memoize\n",
    "def prime(n):\n",
    "    \"\"\"Return the nth prime\"\"\"\n",
    "    if n == 1:\n",
    "        return 2\n",
    "    else:\n",
    "        last = prime(n-1)\n",
    "        primality = False\n",
    "        while not primality:\n",
    "            last = last + 1\n",
    "            primality = is_prime(last)\n",
    "        return last\n",
    "    "
   ]
  },
  {
   "cell_type": "code",
   "execution_count": 167,
   "metadata": {
    "collapsed": false
   },
   "outputs": [
    {
     "name": "stdout",
     "output_type": "stream",
     "text": [
      "First Time: 0.00758695602417 s\n",
      "Second Time: 6.29425048828e-05 s\n"
     ]
    }
   ],
   "source": [
    "import time\n",
    "\n",
    "zero = time.time()\n",
    "prime(150)\n",
    "one = time.time()\n",
    "prime(150)\n",
    "two = time.time()\n",
    "\n",
    "print \"First Time: {} s\".format(one-zero)\n",
    "print \"Second Time: {} s\".format(two-one)\n",
    "\n"
   ]
  },
  {
   "cell_type": "code",
   "execution_count": 168,
   "metadata": {
    "collapsed": false
   },
   "outputs": [
    {
     "data": {
      "text/plain": [
       "{((1,), ()): 2,\n",
       " ((2,), ()): 3,\n",
       " ((3,), ()): 5,\n",
       " ((4,), ()): 7,\n",
       " ((5,), ()): 11,\n",
       " ((6,), ()): 13,\n",
       " ((7,), ()): 17,\n",
       " ((8,), ()): 19,\n",
       " ((9,), ()): 23,\n",
       " ((10,), ()): 29,\n",
       " ((11,), ()): 31,\n",
       " ((12,), ()): 37,\n",
       " ((13,), ()): 41,\n",
       " ((14,), ()): 43,\n",
       " ((15,), ()): 47,\n",
       " ((16,), ()): 53,\n",
       " ((17,), ()): 59,\n",
       " ((18,), ()): 61,\n",
       " ((19,), ()): 67,\n",
       " ((20,), ()): 71,\n",
       " ((21,), ()): 73,\n",
       " ((22,), ()): 79,\n",
       " ((23,), ()): 83,\n",
       " ((24,), ()): 89,\n",
       " ((25,), ()): 97,\n",
       " ((26,), ()): 101,\n",
       " ((27,), ()): 103,\n",
       " ((28,), ()): 107,\n",
       " ((29,), ()): 109,\n",
       " ((30,), ()): 113,\n",
       " ((31,), ()): 127,\n",
       " ((32,), ()): 131,\n",
       " ((33,), ()): 137,\n",
       " ((34,), ()): 139,\n",
       " ((35,), ()): 149,\n",
       " ((36,), ()): 151,\n",
       " ((37,), ()): 157,\n",
       " ((38,), ()): 163,\n",
       " ((39,), ()): 167,\n",
       " ((40,), ()): 173,\n",
       " ((41,), ()): 179,\n",
       " ((42,), ()): 181,\n",
       " ((43,), ()): 191,\n",
       " ((44,), ()): 193,\n",
       " ((45,), ()): 197,\n",
       " ((46,), ()): 199,\n",
       " ((47,), ()): 211,\n",
       " ((48,), ()): 223,\n",
       " ((49,), ()): 227,\n",
       " ((50,), ()): 229,\n",
       " ((51,), ()): 233,\n",
       " ((52,), ()): 239,\n",
       " ((53,), ()): 241,\n",
       " ((54,), ()): 251,\n",
       " ((55,), ()): 257,\n",
       " ((56,), ()): 263,\n",
       " ((57,), ()): 269,\n",
       " ((58,), ()): 271,\n",
       " ((59,), ()): 277,\n",
       " ((60,), ()): 281,\n",
       " ((61,), ()): 283,\n",
       " ((62,), ()): 293,\n",
       " ((63,), ()): 307,\n",
       " ((64,), ()): 311,\n",
       " ((65,), ()): 313,\n",
       " ((66,), ()): 317,\n",
       " ((67,), ()): 331,\n",
       " ((68,), ()): 337,\n",
       " ((69,), ()): 347,\n",
       " ((70,), ()): 349,\n",
       " ((71,), ()): 353,\n",
       " ((72,), ()): 359,\n",
       " ((73,), ()): 367,\n",
       " ((74,), ()): 373,\n",
       " ((75,), ()): 379,\n",
       " ((76,), ()): 383,\n",
       " ((77,), ()): 389,\n",
       " ((78,), ()): 397,\n",
       " ((79,), ()): 401,\n",
       " ((80,), ()): 409,\n",
       " ((81,), ()): 419,\n",
       " ((82,), ()): 421,\n",
       " ((83,), ()): 431,\n",
       " ((84,), ()): 433,\n",
       " ((85,), ()): 439,\n",
       " ((86,), ()): 443,\n",
       " ((87,), ()): 449,\n",
       " ((88,), ()): 457,\n",
       " ((89,), ()): 461,\n",
       " ((90,), ()): 463,\n",
       " ((91,), ()): 467,\n",
       " ((92,), ()): 479,\n",
       " ((93,), ()): 487,\n",
       " ((94,), ()): 491,\n",
       " ((95,), ()): 499,\n",
       " ((96,), ()): 503,\n",
       " ((97,), ()): 509,\n",
       " ((98,), ()): 521,\n",
       " ((99,), ()): 523,\n",
       " ((100,), ()): 541,\n",
       " ((101,), ()): 547,\n",
       " ((102,), ()): 557,\n",
       " ((103,), ()): 563,\n",
       " ((104,), ()): 569,\n",
       " ((105,), ()): 571,\n",
       " ((106,), ()): 577,\n",
       " ((107,), ()): 587,\n",
       " ((108,), ()): 593,\n",
       " ((109,), ()): 599,\n",
       " ((110,), ()): 601,\n",
       " ((111,), ()): 607,\n",
       " ((112,), ()): 613,\n",
       " ((113,), ()): 617,\n",
       " ((114,), ()): 619,\n",
       " ((115,), ()): 631,\n",
       " ((116,), ()): 641,\n",
       " ((117,), ()): 643,\n",
       " ((118,), ()): 647,\n",
       " ((119,), ()): 653,\n",
       " ((120,), ()): 659,\n",
       " ((121,), ()): 661,\n",
       " ((122,), ()): 673,\n",
       " ((123,), ()): 677,\n",
       " ((124,), ()): 683,\n",
       " ((125,), ()): 691,\n",
       " ((126,), ()): 701,\n",
       " ((127,), ()): 709,\n",
       " ((128,), ()): 719,\n",
       " ((129,), ()): 727,\n",
       " ((130,), ()): 733,\n",
       " ((131,), ()): 739,\n",
       " ((132,), ()): 743,\n",
       " ((133,), ()): 751,\n",
       " ((134,), ()): 757,\n",
       " ((135,), ()): 761,\n",
       " ((136,), ()): 769,\n",
       " ((137,), ()): 773,\n",
       " ((138,), ()): 787,\n",
       " ((139,), ()): 797,\n",
       " ((140,), ()): 809,\n",
       " ((141,), ()): 811,\n",
       " ((142,), ()): 821,\n",
       " ((143,), ()): 823,\n",
       " ((144,), ()): 827,\n",
       " ((145,), ()): 829,\n",
       " ((146,), ()): 839,\n",
       " ((147,), ()): 853,\n",
       " ((148,), ()): 857,\n",
       " ((149,), ()): 859,\n",
       " ((150,), ()): 863}"
      ]
     },
     "execution_count": 168,
     "metadata": {},
     "output_type": "execute_result"
    }
   ],
   "source": [
    "prime.cache\n"
   ]
  },
  {
   "cell_type": "code",
   "execution_count": 169,
   "metadata": {
    "collapsed": false
   },
   "outputs": [
    {
     "data": {
      "text/plain": [
       "{((1,), ()): False,\n",
       " ((2,), ()): True,\n",
       " ((3,), ()): True,\n",
       " ((4,), ()): False,\n",
       " ((5,), ()): True,\n",
       " ((6,), ()): False,\n",
       " ((7,), ()): True,\n",
       " ((8,), ()): False,\n",
       " ((9,), ()): False,\n",
       " ((10,), ()): False,\n",
       " ((11,), ()): True,\n",
       " ((12,), ()): False,\n",
       " ((13,), ()): True,\n",
       " ((14,), ()): False,\n",
       " ((15,), ()): False,\n",
       " ((16,), ()): False,\n",
       " ((17,), ()): True,\n",
       " ((18,), ()): False,\n",
       " ((19,), ()): True,\n",
       " ((20,), ()): False,\n",
       " ((21,), ()): False,\n",
       " ((22,), ()): False,\n",
       " ((23,), ()): True,\n",
       " ((24,), ()): False,\n",
       " ((25,), ()): False,\n",
       " ((26,), ()): False,\n",
       " ((27,), ()): False,\n",
       " ((28,), ()): False,\n",
       " ((29,), ()): True,\n",
       " ((30,), ()): False,\n",
       " ((31,), ()): True,\n",
       " ((32,), ()): False,\n",
       " ((33,), ()): False,\n",
       " ((34,), ()): False,\n",
       " ((35,), ()): False,\n",
       " ((36,), ()): False,\n",
       " ((37,), ()): True,\n",
       " ((38,), ()): False,\n",
       " ((39,), ()): False,\n",
       " ((40,), ()): False,\n",
       " ((41,), ()): True,\n",
       " ((42,), ()): False,\n",
       " ((43,), ()): True,\n",
       " ((44,), ()): False,\n",
       " ((45,), ()): False,\n",
       " ((46,), ()): False,\n",
       " ((47,), ()): True,\n",
       " ((48,), ()): False,\n",
       " ((49,), ()): False,\n",
       " ((50,), ()): False,\n",
       " ((51,), ()): False,\n",
       " ((52,), ()): False,\n",
       " ((53,), ()): True,\n",
       " ((54,), ()): False,\n",
       " ((55,), ()): False,\n",
       " ((56,), ()): False,\n",
       " ((57,), ()): False,\n",
       " ((58,), ()): False,\n",
       " ((59,), ()): True,\n",
       " ((60,), ()): False,\n",
       " ((61,), ()): True,\n",
       " ((62,), ()): False,\n",
       " ((63,), ()): False,\n",
       " ((64,), ()): False,\n",
       " ((65,), ()): False,\n",
       " ((66,), ()): False,\n",
       " ((67,), ()): True,\n",
       " ((68,), ()): False,\n",
       " ((69,), ()): False,\n",
       " ((70,), ()): False,\n",
       " ((71,), ()): True,\n",
       " ((72,), ()): False,\n",
       " ((73,), ()): True,\n",
       " ((74,), ()): False,\n",
       " ((75,), ()): False,\n",
       " ((76,), ()): False,\n",
       " ((77,), ()): False,\n",
       " ((78,), ()): False,\n",
       " ((79,), ()): True,\n",
       " ((80,), ()): False,\n",
       " ((81,), ()): False,\n",
       " ((82,), ()): False,\n",
       " ((83,), ()): True,\n",
       " ((84,), ()): False,\n",
       " ((85,), ()): False,\n",
       " ((86,), ()): False,\n",
       " ((87,), ()): False,\n",
       " ((88,), ()): False,\n",
       " ((89,), ()): True,\n",
       " ((90,), ()): False,\n",
       " ((91,), ()): False,\n",
       " ((92,), ()): False,\n",
       " ((93,), ()): False,\n",
       " ((94,), ()): False,\n",
       " ((95,), ()): False,\n",
       " ((96,), ()): False,\n",
       " ((97,), ()): True,\n",
       " ((98,), ()): False,\n",
       " ((99,), ()): False,\n",
       " ((100,), ()): False,\n",
       " ((101,), ()): True,\n",
       " ((102,), ()): False,\n",
       " ((103,), ()): True,\n",
       " ((104,), ()): False,\n",
       " ((105,), ()): False,\n",
       " ((106,), ()): False,\n",
       " ((107,), ()): True,\n",
       " ((108,), ()): False,\n",
       " ((109,), ()): True,\n",
       " ((110,), ()): False,\n",
       " ((111,), ()): False,\n",
       " ((112,), ()): False,\n",
       " ((113,), ()): True,\n",
       " ((114,), ()): False,\n",
       " ((115,), ()): False,\n",
       " ((116,), ()): False,\n",
       " ((117,), ()): False,\n",
       " ((118,), ()): False,\n",
       " ((119,), ()): False,\n",
       " ((120,), ()): False,\n",
       " ((121,), ()): False,\n",
       " ((122,), ()): False,\n",
       " ((123,), ()): False,\n",
       " ((124,), ()): False,\n",
       " ((125,), ()): False,\n",
       " ((126,), ()): False,\n",
       " ((127,), ()): True,\n",
       " ((128,), ()): False,\n",
       " ((129,), ()): False,\n",
       " ((130,), ()): False,\n",
       " ((131,), ()): True,\n",
       " ((132,), ()): False,\n",
       " ((133,), ()): False,\n",
       " ((134,), ()): False,\n",
       " ((135,), ()): False,\n",
       " ((136,), ()): False,\n",
       " ((137,), ()): True,\n",
       " ((138,), ()): False,\n",
       " ((139,), ()): True,\n",
       " ((140,), ()): False,\n",
       " ((141,), ()): False,\n",
       " ((142,), ()): False,\n",
       " ((143,), ()): False,\n",
       " ((144,), ()): False,\n",
       " ((145,), ()): False,\n",
       " ((146,), ()): False,\n",
       " ((147,), ()): False,\n",
       " ((148,), ()): False,\n",
       " ((149,), ()): True,\n",
       " ((150,), ()): False,\n",
       " ((151,), ()): True,\n",
       " ((152,), ()): False,\n",
       " ((153,), ()): False,\n",
       " ((154,), ()): False,\n",
       " ((155,), ()): False,\n",
       " ((156,), ()): False,\n",
       " ((157,), ()): True,\n",
       " ((158,), ()): False,\n",
       " ((159,), ()): False,\n",
       " ((160,), ()): False,\n",
       " ((161,), ()): False,\n",
       " ((162,), ()): False,\n",
       " ((163,), ()): True,\n",
       " ((164,), ()): False,\n",
       " ((165,), ()): False,\n",
       " ((166,), ()): False,\n",
       " ((167,), ()): True,\n",
       " ((168,), ()): False,\n",
       " ((169,), ()): False,\n",
       " ((170,), ()): False,\n",
       " ((171,), ()): False,\n",
       " ((172,), ()): False,\n",
       " ((173,), ()): True,\n",
       " ((174,), ()): False,\n",
       " ((175,), ()): False,\n",
       " ((176,), ()): False,\n",
       " ((177,), ()): False,\n",
       " ((178,), ()): False,\n",
       " ((179,), ()): True,\n",
       " ((180,), ()): False,\n",
       " ((181,), ()): True,\n",
       " ((182,), ()): False,\n",
       " ((183,), ()): False,\n",
       " ((184,), ()): False,\n",
       " ((185,), ()): False,\n",
       " ((186,), ()): False,\n",
       " ((187,), ()): False,\n",
       " ((188,), ()): False,\n",
       " ((189,), ()): False,\n",
       " ((190,), ()): False,\n",
       " ((191,), ()): True,\n",
       " ((192,), ()): False,\n",
       " ((193,), ()): True,\n",
       " ((194,), ()): False,\n",
       " ((195,), ()): False,\n",
       " ((196,), ()): False,\n",
       " ((197,), ()): True,\n",
       " ((198,), ()): False,\n",
       " ((199,), ()): True,\n",
       " ((200,), ()): False,\n",
       " ((201,), ()): False,\n",
       " ((202,), ()): False,\n",
       " ((203,), ()): False,\n",
       " ((204,), ()): False,\n",
       " ((205,), ()): False,\n",
       " ((206,), ()): False,\n",
       " ((207,), ()): False,\n",
       " ((208,), ()): False,\n",
       " ((209,), ()): False,\n",
       " ((210,), ()): False,\n",
       " ((211,), ()): True,\n",
       " ((212,), ()): False,\n",
       " ((213,), ()): False,\n",
       " ((214,), ()): False,\n",
       " ((215,), ()): False,\n",
       " ((216,), ()): False,\n",
       " ((217,), ()): False,\n",
       " ((218,), ()): False,\n",
       " ((219,), ()): False,\n",
       " ((220,), ()): False,\n",
       " ((221,), ()): False,\n",
       " ((222,), ()): False,\n",
       " ((223,), ()): True,\n",
       " ((224,), ()): False,\n",
       " ((225,), ()): False,\n",
       " ((226,), ()): False,\n",
       " ((227,), ()): True,\n",
       " ((228,), ()): False,\n",
       " ((229,), ()): True,\n",
       " ((230,), ()): False,\n",
       " ((231,), ()): False,\n",
       " ((232,), ()): False,\n",
       " ((233,), ()): True,\n",
       " ((234,), ()): False,\n",
       " ((235,), ()): False,\n",
       " ((236,), ()): False,\n",
       " ((237,), ()): False,\n",
       " ((238,), ()): False,\n",
       " ((239,), ()): True,\n",
       " ((240,), ()): False,\n",
       " ((241,), ()): True,\n",
       " ((242,), ()): False,\n",
       " ((243,), ()): False,\n",
       " ((244,), ()): False,\n",
       " ((245,), ()): False,\n",
       " ((246,), ()): False,\n",
       " ((247,), ()): False,\n",
       " ((248,), ()): False,\n",
       " ((249,), ()): False,\n",
       " ((250,), ()): False,\n",
       " ((251,), ()): True,\n",
       " ((252,), ()): False,\n",
       " ((253,), ()): False,\n",
       " ((254,), ()): False,\n",
       " ((255,), ()): False,\n",
       " ((256,), ()): False,\n",
       " ((257,), ()): True,\n",
       " ((258,), ()): False,\n",
       " ((259,), ()): False,\n",
       " ((260,), ()): False,\n",
       " ((261,), ()): False,\n",
       " ((262,), ()): False,\n",
       " ((263,), ()): True,\n",
       " ((264,), ()): False,\n",
       " ((265,), ()): False,\n",
       " ((266,), ()): False,\n",
       " ((267,), ()): False,\n",
       " ((268,), ()): False,\n",
       " ((269,), ()): True,\n",
       " ((270,), ()): False,\n",
       " ((271,), ()): True,\n",
       " ((272,), ()): False,\n",
       " ((273,), ()): False,\n",
       " ((274,), ()): False,\n",
       " ((275,), ()): False,\n",
       " ((276,), ()): False,\n",
       " ((277,), ()): True,\n",
       " ((278,), ()): False,\n",
       " ((279,), ()): False,\n",
       " ((280,), ()): False,\n",
       " ((281,), ()): True,\n",
       " ((282,), ()): False,\n",
       " ((283,), ()): True,\n",
       " ((284,), ()): False,\n",
       " ((285,), ()): False,\n",
       " ((286,), ()): False,\n",
       " ((287,), ()): False,\n",
       " ((288,), ()): False,\n",
       " ((289,), ()): False,\n",
       " ((290,), ()): False,\n",
       " ((291,), ()): False,\n",
       " ((292,), ()): False,\n",
       " ((293,), ()): True,\n",
       " ((294,), ()): False,\n",
       " ((295,), ()): False,\n",
       " ((296,), ()): False,\n",
       " ((297,), ()): False,\n",
       " ((298,), ()): False,\n",
       " ((299,), ()): False,\n",
       " ((300,), ()): False,\n",
       " ((301,), ()): False,\n",
       " ((302,), ()): False,\n",
       " ((303,), ()): False,\n",
       " ((304,), ()): False,\n",
       " ((305,), ()): False,\n",
       " ((306,), ()): False,\n",
       " ((307,), ()): True,\n",
       " ((308,), ()): False,\n",
       " ((309,), ()): False,\n",
       " ((310,), ()): False,\n",
       " ((311,), ()): True,\n",
       " ((312,), ()): False,\n",
       " ((313,), ()): True,\n",
       " ((314,), ()): False,\n",
       " ((315,), ()): False,\n",
       " ((316,), ()): False,\n",
       " ((317,), ()): True,\n",
       " ((318,), ()): False,\n",
       " ((319,), ()): False,\n",
       " ((320,), ()): False,\n",
       " ((321,), ()): False,\n",
       " ((322,), ()): False,\n",
       " ((323,), ()): False,\n",
       " ((324,), ()): False,\n",
       " ((325,), ()): False,\n",
       " ((326,), ()): False,\n",
       " ((327,), ()): False,\n",
       " ((328,), ()): False,\n",
       " ((329,), ()): False,\n",
       " ((330,), ()): False,\n",
       " ((331,), ()): True,\n",
       " ((332,), ()): False,\n",
       " ((333,), ()): False,\n",
       " ((334,), ()): False,\n",
       " ((335,), ()): False,\n",
       " ((336,), ()): False,\n",
       " ((337,), ()): True,\n",
       " ((338,), ()): False,\n",
       " ((339,), ()): False,\n",
       " ((340,), ()): False,\n",
       " ((341,), ()): False,\n",
       " ((342,), ()): False,\n",
       " ((343,), ()): False,\n",
       " ((344,), ()): False,\n",
       " ((345,), ()): False,\n",
       " ((346,), ()): False,\n",
       " ((347,), ()): True,\n",
       " ((348,), ()): False,\n",
       " ((349,), ()): True,\n",
       " ((350,), ()): False,\n",
       " ((351,), ()): False,\n",
       " ((352,), ()): False,\n",
       " ((353,), ()): True,\n",
       " ((354,), ()): False,\n",
       " ((355,), ()): False,\n",
       " ((356,), ()): False,\n",
       " ((357,), ()): False,\n",
       " ((358,), ()): False,\n",
       " ((359,), ()): True,\n",
       " ((360,), ()): False,\n",
       " ((361,), ()): False,\n",
       " ((362,), ()): False,\n",
       " ((363,), ()): False,\n",
       " ((364,), ()): False,\n",
       " ((365,), ()): False,\n",
       " ((366,), ()): False,\n",
       " ((367,), ()): True,\n",
       " ((368,), ()): False,\n",
       " ((369,), ()): False,\n",
       " ((370,), ()): False,\n",
       " ((371,), ()): False,\n",
       " ((372,), ()): False,\n",
       " ((373,), ()): True,\n",
       " ((374,), ()): False,\n",
       " ((375,), ()): False,\n",
       " ((376,), ()): False,\n",
       " ((377,), ()): False,\n",
       " ((378,), ()): False,\n",
       " ((379,), ()): True,\n",
       " ((380,), ()): False,\n",
       " ((381,), ()): False,\n",
       " ((382,), ()): False,\n",
       " ((383,), ()): True,\n",
       " ((384,), ()): False,\n",
       " ((385,), ()): False,\n",
       " ((386,), ()): False,\n",
       " ((387,), ()): False,\n",
       " ((388,), ()): False,\n",
       " ((389,), ()): True,\n",
       " ((390,), ()): False,\n",
       " ((391,), ()): False,\n",
       " ((392,), ()): False,\n",
       " ((393,), ()): False,\n",
       " ((394,), ()): False,\n",
       " ((395,), ()): False,\n",
       " ((396,), ()): False,\n",
       " ((397,), ()): True,\n",
       " ((398,), ()): False,\n",
       " ((399,), ()): False,\n",
       " ((400,), ()): False,\n",
       " ((401,), ()): True,\n",
       " ((402,), ()): False,\n",
       " ((403,), ()): False,\n",
       " ((404,), ()): False,\n",
       " ((405,), ()): False,\n",
       " ((406,), ()): False,\n",
       " ((407,), ()): False,\n",
       " ((408,), ()): False,\n",
       " ((409,), ()): True,\n",
       " ((410,), ()): False,\n",
       " ((411,), ()): False,\n",
       " ((412,), ()): False,\n",
       " ((413,), ()): False,\n",
       " ((414,), ()): False,\n",
       " ((415,), ()): False,\n",
       " ((416,), ()): False,\n",
       " ((417,), ()): False,\n",
       " ((418,), ()): False,\n",
       " ((419,), ()): True,\n",
       " ((420,), ()): False,\n",
       " ((421,), ()): True,\n",
       " ((422,), ()): False,\n",
       " ((423,), ()): False,\n",
       " ((424,), ()): False,\n",
       " ((425,), ()): False,\n",
       " ((426,), ()): False,\n",
       " ((427,), ()): False,\n",
       " ((428,), ()): False,\n",
       " ((429,), ()): False,\n",
       " ((430,), ()): False,\n",
       " ((431,), ()): True,\n",
       " ((432,), ()): False,\n",
       " ((433,), ()): True,\n",
       " ((434,), ()): False,\n",
       " ((435,), ()): False,\n",
       " ((436,), ()): False,\n",
       " ((437,), ()): False,\n",
       " ((438,), ()): False,\n",
       " ((439,), ()): True,\n",
       " ((440,), ()): False,\n",
       " ((441,), ()): False,\n",
       " ((442,), ()): False,\n",
       " ((443,), ()): True,\n",
       " ((444,), ()): False,\n",
       " ((445,), ()): False,\n",
       " ((446,), ()): False,\n",
       " ((447,), ()): False,\n",
       " ((448,), ()): False,\n",
       " ((449,), ()): True,\n",
       " ((450,), ()): False,\n",
       " ((451,), ()): False,\n",
       " ((452,), ()): False,\n",
       " ((453,), ()): False,\n",
       " ((454,), ()): False,\n",
       " ((455,), ()): False,\n",
       " ((456,), ()): False,\n",
       " ((457,), ()): True,\n",
       " ((458,), ()): False,\n",
       " ((459,), ()): False,\n",
       " ((460,), ()): False,\n",
       " ((461,), ()): True,\n",
       " ((462,), ()): False,\n",
       " ((463,), ()): True,\n",
       " ((464,), ()): False,\n",
       " ((465,), ()): False,\n",
       " ((466,), ()): False,\n",
       " ((467,), ()): True,\n",
       " ((468,), ()): False,\n",
       " ((469,), ()): False,\n",
       " ((470,), ()): False,\n",
       " ((471,), ()): False,\n",
       " ((472,), ()): False,\n",
       " ((473,), ()): False,\n",
       " ((474,), ()): False,\n",
       " ((475,), ()): False,\n",
       " ((476,), ()): False,\n",
       " ((477,), ()): False,\n",
       " ((478,), ()): False,\n",
       " ((479,), ()): True,\n",
       " ((480,), ()): False,\n",
       " ((481,), ()): False,\n",
       " ((482,), ()): False,\n",
       " ((483,), ()): False,\n",
       " ((484,), ()): False,\n",
       " ((485,), ()): False,\n",
       " ((486,), ()): False,\n",
       " ((487,), ()): True,\n",
       " ((488,), ()): False,\n",
       " ((489,), ()): False,\n",
       " ((490,), ()): False,\n",
       " ((491,), ()): True,\n",
       " ((492,), ()): False,\n",
       " ((493,), ()): False,\n",
       " ((494,), ()): False,\n",
       " ((495,), ()): False,\n",
       " ((496,), ()): False,\n",
       " ((497,), ()): False,\n",
       " ((498,), ()): False,\n",
       " ((499,), ()): True,\n",
       " ((500,), ()): False,\n",
       " ((501,), ()): False,\n",
       " ((502,), ()): False,\n",
       " ((503,), ()): True,\n",
       " ((504,), ()): False,\n",
       " ((505,), ()): False,\n",
       " ((506,), ()): False,\n",
       " ((507,), ()): False,\n",
       " ((508,), ()): False,\n",
       " ((509,), ()): True,\n",
       " ((510,), ()): False,\n",
       " ((511,), ()): False,\n",
       " ((512,), ()): False,\n",
       " ((513,), ()): False,\n",
       " ((514,), ()): False,\n",
       " ((515,), ()): False,\n",
       " ((516,), ()): False,\n",
       " ((517,), ()): False,\n",
       " ((518,), ()): False,\n",
       " ((519,), ()): False,\n",
       " ((520,), ()): False,\n",
       " ((521,), ()): True,\n",
       " ((522,), ()): False,\n",
       " ((523,), ()): True,\n",
       " ((524,), ()): False,\n",
       " ((525,), ()): False,\n",
       " ((526,), ()): False,\n",
       " ((527,), ()): False,\n",
       " ((528,), ()): False,\n",
       " ((529,), ()): False,\n",
       " ((530,), ()): False,\n",
       " ((531,), ()): False,\n",
       " ((532,), ()): False,\n",
       " ((533,), ()): False,\n",
       " ((534,), ()): False,\n",
       " ((535,), ()): False,\n",
       " ((536,), ()): False,\n",
       " ((537,), ()): False,\n",
       " ((538,), ()): False,\n",
       " ((539,), ()): False,\n",
       " ((540,), ()): False,\n",
       " ((541,), ()): True,\n",
       " ((542,), ()): False,\n",
       " ((543,), ()): False,\n",
       " ((544,), ()): False,\n",
       " ((545,), ()): False,\n",
       " ((546,), ()): False,\n",
       " ((547,), ()): True,\n",
       " ((548,), ()): False,\n",
       " ((549,), ()): False,\n",
       " ((550,), ()): False,\n",
       " ((551,), ()): False,\n",
       " ((552,), ()): False,\n",
       " ((553,), ()): False,\n",
       " ((554,), ()): False,\n",
       " ((555,), ()): False,\n",
       " ((556,), ()): False,\n",
       " ((557,), ()): True,\n",
       " ((558,), ()): False,\n",
       " ((559,), ()): False,\n",
       " ((560,), ()): False,\n",
       " ((561,), ()): False,\n",
       " ((562,), ()): False,\n",
       " ((563,), ()): True,\n",
       " ((564,), ()): False,\n",
       " ((565,), ()): False,\n",
       " ((566,), ()): False,\n",
       " ((567,), ()): False,\n",
       " ((568,), ()): False,\n",
       " ((569,), ()): True,\n",
       " ((570,), ()): False,\n",
       " ((571,), ()): True,\n",
       " ((572,), ()): False,\n",
       " ((573,), ()): False,\n",
       " ((574,), ()): False,\n",
       " ((575,), ()): False,\n",
       " ((576,), ()): False,\n",
       " ((577,), ()): True,\n",
       " ((578,), ()): False,\n",
       " ((579,), ()): False,\n",
       " ((580,), ()): False,\n",
       " ((581,), ()): False,\n",
       " ((582,), ()): False,\n",
       " ((583,), ()): False,\n",
       " ((584,), ()): False,\n",
       " ((585,), ()): False,\n",
       " ((586,), ()): False,\n",
       " ((587,), ()): True,\n",
       " ((588,), ()): False,\n",
       " ((589,), ()): False,\n",
       " ((590,), ()): False,\n",
       " ((591,), ()): False,\n",
       " ((592,), ()): False,\n",
       " ((593,), ()): True,\n",
       " ((594,), ()): False,\n",
       " ((595,), ()): False,\n",
       " ((596,), ()): False,\n",
       " ((597,), ()): False,\n",
       " ((598,), ()): False,\n",
       " ((599,), ()): True,\n",
       " ((600,), ()): False,\n",
       " ((601,), ()): True,\n",
       " ((602,), ()): False,\n",
       " ((603,), ()): False,\n",
       " ((604,), ()): False,\n",
       " ((605,), ()): False,\n",
       " ((606,), ()): False,\n",
       " ((607,), ()): True,\n",
       " ((608,), ()): False,\n",
       " ((609,), ()): False,\n",
       " ((610,), ()): False,\n",
       " ((611,), ()): False,\n",
       " ((612,), ()): False,\n",
       " ((613,), ()): True,\n",
       " ((614,), ()): False,\n",
       " ((615,), ()): False,\n",
       " ((616,), ()): False,\n",
       " ((617,), ()): True,\n",
       " ((618,), ()): False,\n",
       " ((619,), ()): True,\n",
       " ((620,), ()): False,\n",
       " ((621,), ()): False,\n",
       " ((622,), ()): False,\n",
       " ((623,), ()): False,\n",
       " ((624,), ()): False,\n",
       " ((625,), ()): False,\n",
       " ((626,), ()): False,\n",
       " ((627,), ()): False,\n",
       " ((628,), ()): False,\n",
       " ((629,), ()): False,\n",
       " ((630,), ()): False,\n",
       " ((631,), ()): True,\n",
       " ((632,), ()): False,\n",
       " ((633,), ()): False,\n",
       " ((634,), ()): False,\n",
       " ((635,), ()): False,\n",
       " ((636,), ()): False,\n",
       " ((637,), ()): False,\n",
       " ((638,), ()): False,\n",
       " ((639,), ()): False,\n",
       " ((640,), ()): False,\n",
       " ((641,), ()): True,\n",
       " ((642,), ()): False,\n",
       " ((643,), ()): True,\n",
       " ((644,), ()): False,\n",
       " ((645,), ()): False,\n",
       " ((646,), ()): False,\n",
       " ((647,), ()): True,\n",
       " ((648,), ()): False,\n",
       " ((649,), ()): False,\n",
       " ((650,), ()): False,\n",
       " ((651,), ()): False,\n",
       " ((652,), ()): False,\n",
       " ((653,), ()): True,\n",
       " ((654,), ()): False,\n",
       " ((655,), ()): False,\n",
       " ((656,), ()): False,\n",
       " ((657,), ()): False,\n",
       " ((658,), ()): False,\n",
       " ((659,), ()): True,\n",
       " ((660,), ()): False,\n",
       " ((661,), ()): True,\n",
       " ((662,), ()): False,\n",
       " ((663,), ()): False,\n",
       " ((664,), ()): False,\n",
       " ((665,), ()): False,\n",
       " ((666,), ()): False,\n",
       " ((667,), ()): False,\n",
       " ((668,), ()): False,\n",
       " ((669,), ()): False,\n",
       " ((670,), ()): False,\n",
       " ((671,), ()): False,\n",
       " ((672,), ()): False,\n",
       " ((673,), ()): True,\n",
       " ((674,), ()): False,\n",
       " ((675,), ()): False,\n",
       " ((676,), ()): False,\n",
       " ((677,), ()): True,\n",
       " ((678,), ()): False,\n",
       " ((679,), ()): False,\n",
       " ((680,), ()): False,\n",
       " ((681,), ()): False,\n",
       " ((682,), ()): False,\n",
       " ((683,), ()): True,\n",
       " ((684,), ()): False,\n",
       " ((685,), ()): False,\n",
       " ((686,), ()): False,\n",
       " ((687,), ()): False,\n",
       " ((688,), ()): False,\n",
       " ((689,), ()): False,\n",
       " ((690,), ()): False,\n",
       " ((691,), ()): True,\n",
       " ((692,), ()): False,\n",
       " ((693,), ()): False,\n",
       " ((694,), ()): False,\n",
       " ((695,), ()): False,\n",
       " ((696,), ()): False,\n",
       " ((697,), ()): False,\n",
       " ((698,), ()): False,\n",
       " ((699,), ()): False,\n",
       " ((700,), ()): False,\n",
       " ((701,), ()): True,\n",
       " ((702,), ()): False,\n",
       " ((703,), ()): False,\n",
       " ((704,), ()): False,\n",
       " ((705,), ()): False,\n",
       " ((706,), ()): False,\n",
       " ((707,), ()): False,\n",
       " ((708,), ()): False,\n",
       " ((709,), ()): True,\n",
       " ((710,), ()): False,\n",
       " ((711,), ()): False,\n",
       " ((712,), ()): False,\n",
       " ((713,), ()): False,\n",
       " ((714,), ()): False,\n",
       " ((715,), ()): False,\n",
       " ((716,), ()): False,\n",
       " ((717,), ()): False,\n",
       " ((718,), ()): False,\n",
       " ((719,), ()): True,\n",
       " ((720,), ()): False,\n",
       " ((721,), ()): False,\n",
       " ((722,), ()): False,\n",
       " ((723,), ()): False,\n",
       " ((724,), ()): False,\n",
       " ((725,), ()): False,\n",
       " ((726,), ()): False,\n",
       " ((727,), ()): True,\n",
       " ((728,), ()): False,\n",
       " ((729,), ()): False,\n",
       " ((730,), ()): False,\n",
       " ((731,), ()): False,\n",
       " ((732,), ()): False,\n",
       " ((733,), ()): True,\n",
       " ((734,), ()): False,\n",
       " ((735,), ()): False,\n",
       " ((736,), ()): False,\n",
       " ((737,), ()): False,\n",
       " ((738,), ()): False,\n",
       " ((739,), ()): True,\n",
       " ((740,), ()): False,\n",
       " ((741,), ()): False,\n",
       " ((742,), ()): False,\n",
       " ((743,), ()): True,\n",
       " ((744,), ()): False,\n",
       " ((745,), ()): False,\n",
       " ((746,), ()): False,\n",
       " ((747,), ()): False,\n",
       " ((748,), ()): False,\n",
       " ((749,), ()): False,\n",
       " ((750,), ()): False,\n",
       " ((751,), ()): True,\n",
       " ((752,), ()): False,\n",
       " ((753,), ()): False,\n",
       " ((754,), ()): False,\n",
       " ((755,), ()): False,\n",
       " ((756,), ()): False,\n",
       " ((757,), ()): True,\n",
       " ((758,), ()): False,\n",
       " ((759,), ()): False,\n",
       " ((760,), ()): False,\n",
       " ((761,), ()): True,\n",
       " ((762,), ()): False,\n",
       " ((763,), ()): False,\n",
       " ((764,), ()): False,\n",
       " ((765,), ()): False,\n",
       " ((766,), ()): False,\n",
       " ((767,), ()): False,\n",
       " ((768,), ()): False,\n",
       " ((769,), ()): True,\n",
       " ((770,), ()): False,\n",
       " ((771,), ()): False,\n",
       " ((772,), ()): False,\n",
       " ((773,), ()): True,\n",
       " ((774,), ()): False,\n",
       " ((775,), ()): False,\n",
       " ((776,), ()): False,\n",
       " ((777,), ()): False,\n",
       " ((778,), ()): False,\n",
       " ((779,), ()): False,\n",
       " ((780,), ()): False,\n",
       " ((781,), ()): False,\n",
       " ((782,), ()): False,\n",
       " ((783,), ()): False,\n",
       " ((784,), ()): False,\n",
       " ((785,), ()): False,\n",
       " ((786,), ()): False,\n",
       " ((787,), ()): True,\n",
       " ((788,), ()): False,\n",
       " ((789,), ()): False,\n",
       " ((790,), ()): False,\n",
       " ((791,), ()): False,\n",
       " ((792,), ()): False,\n",
       " ((793,), ()): False,\n",
       " ((794,), ()): False,\n",
       " ((795,), ()): False,\n",
       " ((796,), ()): False,\n",
       " ((797,), ()): True,\n",
       " ((798,), ()): False,\n",
       " ((799,), ()): False,\n",
       " ((800,), ()): False,\n",
       " ((801,), ()): False,\n",
       " ((802,), ()): False,\n",
       " ((803,), ()): False,\n",
       " ((804,), ()): False,\n",
       " ((805,), ()): False,\n",
       " ((806,), ()): False,\n",
       " ((807,), ()): False,\n",
       " ((808,), ()): False,\n",
       " ((809,), ()): True,\n",
       " ((810,), ()): False,\n",
       " ((811,), ()): True,\n",
       " ((812,), ()): False,\n",
       " ((813,), ()): False,\n",
       " ((814,), ()): False,\n",
       " ((815,), ()): False,\n",
       " ((816,), ()): False,\n",
       " ((817,), ()): False,\n",
       " ((818,), ()): False,\n",
       " ((819,), ()): False,\n",
       " ((820,), ()): False,\n",
       " ((821,), ()): True,\n",
       " ((822,), ()): False,\n",
       " ((823,), ()): True,\n",
       " ((824,), ()): False,\n",
       " ((825,), ()): False,\n",
       " ((826,), ()): False,\n",
       " ((827,), ()): True,\n",
       " ((828,), ()): False,\n",
       " ((829,), ()): True,\n",
       " ((830,), ()): False,\n",
       " ((831,), ()): False,\n",
       " ((832,), ()): False,\n",
       " ((833,), ()): False,\n",
       " ((834,), ()): False,\n",
       " ((835,), ()): False,\n",
       " ((836,), ()): False,\n",
       " ((837,), ()): False,\n",
       " ((838,), ()): False,\n",
       " ((839,), ()): True,\n",
       " ((840,), ()): False,\n",
       " ((841,), ()): False,\n",
       " ((842,), ()): False,\n",
       " ((843,), ()): False,\n",
       " ((844,), ()): False,\n",
       " ((845,), ()): False,\n",
       " ((846,), ()): False,\n",
       " ((847,), ()): False,\n",
       " ((848,), ()): False,\n",
       " ((849,), ()): False,\n",
       " ((850,), ()): False,\n",
       " ((851,), ()): False,\n",
       " ((852,), ()): False,\n",
       " ((853,), ()): True,\n",
       " ((854,), ()): False,\n",
       " ((855,), ()): False,\n",
       " ((856,), ()): False,\n",
       " ((857,), ()): True,\n",
       " ((858,), ()): False,\n",
       " ((859,), ()): True,\n",
       " ((860,), ()): False,\n",
       " ((861,), ()): False,\n",
       " ((862,), ()): False,\n",
       " ((863,), ()): True}"
      ]
     },
     "execution_count": 169,
     "metadata": {},
     "output_type": "execute_result"
    }
   ],
   "source": [
    "is_prime.cache"
   ]
  },
  {
   "cell_type": "markdown",
   "metadata": {},
   "source": [
    "Types\n",
    "====="
   ]
  },
  {
   "cell_type": "markdown",
   "metadata": {},
   "source": [
    "Let's take a simple class like this:\n"
   ]
  },
  {
   "cell_type": "code",
   "execution_count": 170,
   "metadata": {
    "collapsed": false
   },
   "outputs": [
    {
     "name": "stdout",
     "output_type": "stream",
     "text": [
      "5\n"
     ]
    }
   ],
   "source": [
    "class my_class(object):\n",
    "    thing = 5\n",
    "    \n",
    "print my_class.thing\n"
   ]
  },
  {
   "cell_type": "markdown",
   "metadata": {},
   "source": [
    "But we can also express it this way:\n"
   ]
  },
  {
   "cell_type": "code",
   "execution_count": 171,
   "metadata": {
    "collapsed": false
   },
   "outputs": [
    {
     "name": "stdout",
     "output_type": "stream",
     "text": [
      "5\n"
     ]
    }
   ],
   "source": [
    "my_class = type(\"my_class\", (object,), {\"thing\": 5})\n",
    "\n",
    "print my_class.thing\n"
   ]
  },
  {
   "cell_type": "markdown",
   "metadata": {},
   "source": [
    "Why would we do this?\n",
    "\n",
    "Instead of writing a code generator, it's easier to just generate the classes we need on the fly.\n"
   ]
  },
  {
   "cell_type": "markdown",
   "metadata": {},
   "source": [
    "Syntax\n",
    "------\n",
    "<pre>\n",
    "class_var = type(class_name, subclasses, attributes)\n",
    "</pre>"
   ]
  },
  {
   "cell_type": "markdown",
   "metadata": {},
   "source": [
    "These two classes are equivalent:\n"
   ]
  },
  {
   "cell_type": "code",
   "execution_count": 184,
   "metadata": {
    "collapsed": true
   },
   "outputs": [],
   "source": [
    "class counter(object):\n",
    "    #class level variable\n",
    "    foo = \"bar\"\n",
    "    \n",
    "    #Initializer\n",
    "    def __init__(self):\n",
    "        self.count = 0\n",
    "    \n",
    "    def ping(self):\n",
    "        self.count += 1\n",
    "    \n",
    "    def pong(self):\n",
    "        self.count -= 1"
   ]
  },
  {
   "cell_type": "code",
   "execution_count": 185,
   "metadata": {
    "collapsed": true
   },
   "outputs": [],
   "source": [
    "\n",
    "def my_init(self):\n",
    "    self.count = 0\n",
    "\n",
    "def my_ping(self):\n",
    "    self.count += 1\n",
    "\n",
    "def my_pong(self):\n",
    "    self.count -= 1\n",
    "\n",
    "attributes = { \"__init__\": my_init, \"ping\": my_ping, \"pong\": my_pong, \"foo\": \"bar\"}\n",
    "subclasses = (object,)\n",
    "class_name = \"counter2\"\n",
    "\n",
    "counter2 = type(class_name, subclasses, attributes)\n"
   ]
  },
  {
   "cell_type": "code",
   "execution_count": 186,
   "metadata": {
    "collapsed": false
   },
   "outputs": [
    {
     "data": {
      "text/plain": [
       "1"
      ]
     },
     "execution_count": 186,
     "metadata": {},
     "output_type": "execute_result"
    }
   ],
   "source": [
    "c1 = counter()\n",
    "c1.ping()\n",
    "c1.ping()\n",
    "c1.pong()\n",
    "c1.count"
   ]
  },
  {
   "cell_type": "code",
   "execution_count": 188,
   "metadata": {
    "collapsed": false
   },
   "outputs": [
    {
     "data": {
      "text/plain": [
       "1"
      ]
     },
     "execution_count": 188,
     "metadata": {},
     "output_type": "execute_result"
    }
   ],
   "source": [
    "c2 = counter2()\n",
    "c2.ping()\n",
    "c2.ping()\n",
    "c2.pong()\n",
    "c2.count\n"
   ]
  },
  {
   "cell_type": "markdown",
   "metadata": {},
   "source": [
    "Metaclasses\n",
    "========"
   ]
  },
  {
   "cell_type": "markdown",
   "metadata": {},
   "source": [
    "So that's clear I hope.  So what's a metaclass?  It uses the <pre>\\_\\_metaclass\\_\\_</pre> attribute on the class like this:"
   ]
  },
  {
   "cell_type": "markdown",
   "metadata": {},
   "source": [
    "<pre>\n",
    "class x(object):\n",
    "    __metaclass__ = metaclass_definition\n",
    "</pre>"
   ]
  },
  {
   "cell_type": "markdown",
   "metadata": {},
   "source": [
    "So what's the metaclass definition?\n",
    "\n",
    "Simply put it's a funtion that takes a type definition and returns another type defintion."
   ]
  },
  {
   "cell_type": "code",
   "execution_count": 202,
   "metadata": {
    "collapsed": true
   },
   "outputs": [],
   "source": [
    "def my_meta(class_name, subclasses, attributes):\n",
    "    attributes['foo']='bar'\n",
    "    return type(class_name, subclasses, attributes)"
   ]
  },
  {
   "cell_type": "code",
   "execution_count": 203,
   "metadata": {
    "collapsed": true
   },
   "outputs": [],
   "source": [
    "class Nothing(object):\n",
    "    __metaclass__ = my_meta"
   ]
  },
  {
   "cell_type": "code",
   "execution_count": 204,
   "metadata": {
    "collapsed": false
   },
   "outputs": [
    {
     "data": {
      "text/plain": [
       "'bar'"
      ]
     },
     "execution_count": 204,
     "metadata": {},
     "output_type": "execute_result"
    }
   ],
   "source": [
    "Nothing.foo"
   ]
  },
  {
   "cell_type": "markdown",
   "metadata": {},
   "source": [
    "So my adding the metaclass attribute, we can add possibly interesting things to classes (debugging, profiling, abstraction)."
   ]
  },
  {
   "cell_type": "markdown",
   "metadata": {},
   "source": [
    "To take this one step further, we're going to use a class as our meta:"
   ]
  },
  {
   "cell_type": "code",
   "execution_count": null,
   "metadata": {
    "collapsed": true
   },
   "outputs": [],
   "source": []
  },
  {
   "cell_type": "code",
   "execution_count": 277,
   "metadata": {
    "collapsed": false
   },
   "outputs": [
    {
     "name": "stdout",
     "output_type": "stream",
     "text": [
      "<cls_ts: 1433836359.85, ts: 1433836360.85>\n",
      "<cls_ts: 1433836359.85, ts: 1433836361.85>\n",
      "<cls_ts: 1433836359.85, ts: 1433836362.85>\n",
      "<cls_ts: 1433836359.85, ts: 1433836363.85>\n",
      "<cls_ts: 1433836359.85, ts: 1433836364.86>\n"
     ]
    }
   ],
   "source": [
    "import time\n",
    "class MyMeta(type):\n",
    "    '''Counts the number of times a class has been instantiated'''\n",
    "    \n",
    "    def __new__(cls, name, subclasses, attributes):\n",
    "        \"\"\"Add attributes to the class before the type instantiation\"\"\"\n",
    "\n",
    "        attributes['cls_ts'] = time.time()\n",
    "        return type.__new__(cls, name, subclasses, attributes)\n",
    "    \n",
    "    def __init__(cls, name, subclasses, attributes):\n",
    "        \"\"\"To modify the type after the parent type is created use __init__\"\"\"\n",
    "\n",
    "        def my_init(self, *args, **kwargs):\n",
    "            self.ts = time.time()\n",
    "            return super(self.__class__, self).__init__(*args, **kwargs)\n",
    "        \n",
    "        def my_repr(self, *args, **kwargs):\n",
    "            return \"<cls_ts: {}, ts: {}>\".format(self.cls_ts, self.ts)\n",
    "        \n",
    "        cls.__init__ = my_init\n",
    "        cls.__repr__ = my_repr\n",
    "        type.__init__(cls, name, subclasses, attributes)\n",
    "        \n",
    "        \n",
    "class Z(object):\n",
    "    __metaclass__ = MyMeta\n",
    "\n",
    "for x in range(5):\n",
    "    time.sleep(1)\n",
    "    print Z()\n",
    "                \n",
    "\n",
    "        "
   ]
  }
 ],
 "metadata": {
  "kernelspec": {
   "display_name": "Python 2",
   "language": "python",
   "name": "python2"
  },
  "language_info": {
   "codemirror_mode": {
    "name": "ipython",
    "version": 2
   },
   "file_extension": ".py",
   "mimetype": "text/x-python",
   "name": "python",
   "nbconvert_exporter": "python",
   "pygments_lexer": "ipython2",
   "version": "2.7.6"
  }
 },
 "nbformat": 4,
 "nbformat_minor": 0
}
