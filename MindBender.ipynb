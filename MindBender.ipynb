{
 "cells": [
  {
   "cell_type": "markdown",
   "metadata": {
    "slideshow": {
     "slide_type": "slide"
    }
   },
   "source": [
    "\n",
    "Mind Bender\n",
    "=======\n",
    "\n",
    "A deep dive into the beast. \n",
    "---------------------------------------------\n",
    "\n",
    "\n",
    "Rob Ludwick -- Boise Python Meetup\n",
    "\n",
    "June 8, 2015\n",
    "\n",
    "\n",
    "\n",
    "\n",
    "![QR Code](./chart.png)"
   ]
  },
  {
   "cell_type": "markdown",
   "metadata": {},
   "source": [
    "![Bender Schematic](./bender_schematic.jpg)"
   ]
  },
  {
   "cell_type": "markdown",
   "metadata": {
    "slideshow": {
     "slide_type": "slide"
    }
   },
   "source": [
    "Why?\n",
    "====\n",
    "\n",
    "To break through to a higher level of python awareness\n"
   ]
  },
  {
   "cell_type": "markdown",
   "metadata": {},
   "source": [
    "Iterators\n",
    "============\n",
    "\n",
    "\n",
    "So you're familiar with iterators and list comprehensions."
   ]
  },
  {
   "cell_type": "code",
   "execution_count": 135,
   "metadata": {
    "collapsed": false
   },
   "outputs": [
    {
     "data": {
      "text/plain": [
       "[0, 1, 4, 9, 16, 25, 36, 49, 64, 81]"
      ]
     },
     "execution_count": 135,
     "metadata": {},
     "output_type": "execute_result"
    }
   ],
   "source": [
    "[ x**2 for x in range(10) ]"
   ]
  },
  {
   "cell_type": "code",
   "execution_count": 136,
   "metadata": {
    "collapsed": false
   },
   "outputs": [
    {
     "name": "stdout",
     "output_type": "stream",
     "text": [
      "0\n",
      "1\n",
      "2\n",
      "done\n"
     ]
    }
   ],
   "source": [
    "y = iter(range(3))\n",
    "\n",
    "try:\n",
    "    while True:\n",
    "        print next(y)\n",
    "except StopIteration:\n",
    "    print \"done\""
   ]
  },
  {
   "cell_type": "markdown",
   "metadata": {},
   "source": [
    "Implementing your own iterator\n",
    "===============================================\n"
   ]
  },
  {
   "cell_type": "code",
   "execution_count": 137,
   "metadata": {
    "collapsed": true
   },
   "outputs": [],
   "source": [
    "class infinite_zeros(object):\n",
    "    \n",
    "    def next(self):\n",
    "        return 0\n",
    "    \n",
    "    def __iter__(self):\n",
    "        return self"
   ]
  },
  {
   "cell_type": "code",
   "execution_count": 138,
   "metadata": {
    "collapsed": false
   },
   "outputs": [
    {
     "name": "stdout",
     "output_type": "stream",
     "text": [
      "0\n",
      "0\n"
     ]
    }
   ],
   "source": [
    "iz = infinite_zeros()\n",
    "\n",
    "print next(iz)\n",
    "print iz.next()\n",
    "\n"
   ]
  },
  {
   "cell_type": "code",
   "execution_count": 139,
   "metadata": {
    "collapsed": false
   },
   "outputs": [
    {
     "data": {
      "text/plain": [
       "0"
      ]
     },
     "execution_count": 139,
     "metadata": {},
     "output_type": "execute_result"
    }
   ],
   "source": [
    "z = iter(iz)\n",
    "z.next()"
   ]
  },
  {
   "cell_type": "markdown",
   "metadata": {},
   "source": [
    "That's interesting, but not useful.  Let's get the factors of a number."
   ]
  },
  {
   "cell_type": "code",
   "execution_count": 140,
   "metadata": {
    "collapsed": true
   },
   "outputs": [],
   "source": [
    "import math\n",
    "class factors(object):\n",
    "    \n",
    "    def __init__(self, num):\n",
    "        self.num = num\n",
    "        self.idx = 0\n",
    "        \n",
    "    def next(self):\n",
    "        while self.idx <= self.num:\n",
    "            self.idx += 1\n",
    "            if self.num % self.idx == 0:\n",
    "                return self.idx\n",
    "        raise StopIteration\n",
    "            \n",
    "    def __iter__(self):\n",
    "        return self"
   ]
  },
  {
   "cell_type": "code",
   "execution_count": 141,
   "metadata": {
    "collapsed": false
   },
   "outputs": [
    {
     "name": "stdout",
     "output_type": "stream",
     "text": [
      "1\n",
      "2\n",
      "4\n",
      "5\n",
      "10\n",
      "20\n"
     ]
    }
   ],
   "source": [
    "for x in factors(20):\n",
    "    print x"
   ]
  },
  {
   "cell_type": "code",
   "execution_count": 142,
   "metadata": {
    "collapsed": false
   },
   "outputs": [
    {
     "name": "stdout",
     "output_type": "stream",
     "text": [
      "1\n",
      "17\n"
     ]
    }
   ],
   "source": [
    "for x in factors(17):\n",
    "    print x"
   ]
  },
  {
   "cell_type": "code",
   "execution_count": 143,
   "metadata": {
    "collapsed": false
   },
   "outputs": [
    {
     "data": {
      "text/plain": [
       "[1, 5, 13, 25, 65, 325]"
      ]
     },
     "execution_count": 143,
     "metadata": {},
     "output_type": "execute_result"
    }
   ],
   "source": [
    "[z for z in factors(325)]\n"
   ]
  },
  {
   "cell_type": "markdown",
   "metadata": {},
   "source": [
    "So what's the difference between this and a generator?\n",
    "\n",
    "A generator automatically saves state"
   ]
  },
  {
   "cell_type": "code",
   "execution_count": 144,
   "metadata": {
    "collapsed": true
   },
   "outputs": [],
   "source": [
    "def factors(num):\n",
    "    for idx in range(1, num):\n",
    "        if num % idx == 0:\n",
    "            yield idx\n",
    "    yield num"
   ]
  },
  {
   "cell_type": "code",
   "execution_count": 145,
   "metadata": {
    "collapsed": false
   },
   "outputs": [
    {
     "name": "stdout",
     "output_type": "stream",
     "text": [
      "1\n",
      "2\n",
      "4\n",
      "5\n",
      "10\n",
      "20\n"
     ]
    }
   ],
   "source": [
    "for x in factors(20):\n",
    "    print x"
   ]
  },
  {
   "cell_type": "markdown",
   "metadata": {},
   "source": [
    "So what about the StopIteration?\n",
    "\n",
    "It's handled automatically by the generator."
   ]
  },
  {
   "cell_type": "code",
   "execution_count": 146,
   "metadata": {
    "collapsed": false
   },
   "outputs": [
    {
     "name": "stdout",
     "output_type": "stream",
     "text": [
      "1\n",
      "2\n",
      "4\n"
     ]
    }
   ],
   "source": [
    "y = factors(4)\n",
    "print next(y)\n",
    "print next(y)\n",
    "print next(y)\n"
   ]
  },
  {
   "cell_type": "markdown",
   "metadata": {},
   "source": [
    "The next(y) will return a StopIteration."
   ]
  },
  {
   "cell_type": "code",
   "execution_count": 147,
   "metadata": {
    "collapsed": false
   },
   "outputs": [
    {
     "ename": "StopIteration",
     "evalue": "",
     "output_type": "error",
     "traceback": [
      "\u001b[1;31m---------------------------------------------------------------------------\u001b[0m",
      "\u001b[1;31mStopIteration\u001b[0m                             Traceback (most recent call last)",
      "\u001b[1;32m<ipython-input-147-30d3aee69d2d>\u001b[0m in \u001b[0;36m<module>\u001b[1;34m()\u001b[0m\n\u001b[1;32m----> 1\u001b[1;33m \u001b[1;32mprint\u001b[0m \u001b[0mnext\u001b[0m\u001b[1;33m(\u001b[0m\u001b[0my\u001b[0m\u001b[1;33m)\u001b[0m\u001b[1;33m\u001b[0m\u001b[0m\n\u001b[0m",
      "\u001b[1;31mStopIteration\u001b[0m: "
     ]
    }
   ],
   "source": [
    "print next(y)"
   ]
  },
  {
   "cell_type": "markdown",
   "metadata": {},
   "source": [
    "Now let's chain iterators"
   ]
  },
  {
   "cell_type": "code",
   "execution_count": 148,
   "metadata": {
    "collapsed": true
   },
   "outputs": [],
   "source": [
    "def square(num_iter):\n",
    "    while True:\n",
    "        yield next(num_iter) ** 2"
   ]
  },
  {
   "cell_type": "code",
   "execution_count": 149,
   "metadata": {
    "collapsed": false
   },
   "outputs": [
    {
     "data": {
      "text/plain": [
       "[1, 4, 16, 25, 100, 400]"
      ]
     },
     "execution_count": 149,
     "metadata": {},
     "output_type": "execute_result"
    }
   ],
   "source": [
    "[ x for x in square(factors(20)) ]"
   ]
  },
  {
   "cell_type": "markdown",
   "metadata": {},
   "source": [
    "Alternatively:"
   ]
  },
  {
   "cell_type": "code",
   "execution_count": 150,
   "metadata": {
    "collapsed": true
   },
   "outputs": [],
   "source": [
    "def square(num_iter):\n",
    "    for num in num_iter:\n",
    "        yield num ** 2"
   ]
  },
  {
   "cell_type": "code",
   "execution_count": 151,
   "metadata": {
    "collapsed": false
   },
   "outputs": [
    {
     "data": {
      "text/plain": [
       "[1, 4, 16, 25, 100, 400]"
      ]
     },
     "execution_count": 151,
     "metadata": {},
     "output_type": "execute_result"
    }
   ],
   "source": [
    "[ x for x in square(factors(20)) ]"
   ]
  },
  {
   "cell_type": "markdown",
   "metadata": {},
   "source": [
    "Function Objects and Closures\n",
    "=========\n",
    "\n",
    "The first step to understanding decorators\n",
    "---------------"
   ]
  },
  {
   "cell_type": "code",
   "execution_count": 152,
   "metadata": {
    "collapsed": false
   },
   "outputs": [
    {
     "name": "stdout",
     "output_type": "stream",
     "text": [
      "<type 'function'>\n"
     ]
    }
   ],
   "source": [
    "def y(n):\n",
    "    return n * 2\n",
    "\n",
    "print type(y)\n"
   ]
  },
  {
   "cell_type": "markdown",
   "metadata": {},
   "source": [
    "Note the special call() function:"
   ]
  },
  {
   "cell_type": "code",
   "execution_count": 153,
   "metadata": {
    "collapsed": false
   },
   "outputs": [
    {
     "data": {
      "text/plain": [
       "4"
      ]
     },
     "execution_count": 153,
     "metadata": {},
     "output_type": "execute_result"
    }
   ],
   "source": [
    "y.__call__(2)"
   ]
  },
  {
   "cell_type": "code",
   "execution_count": 154,
   "metadata": {
    "collapsed": true
   },
   "outputs": [],
   "source": [
    "def z(f, n):\n",
    "    return f(n) + 1"
   ]
  },
  {
   "cell_type": "markdown",
   "metadata": {},
   "source": [
    "Since a function is an object, I can pass a function into another function:"
   ]
  },
  {
   "cell_type": "code",
   "execution_count": 155,
   "metadata": {
    "collapsed": false
   },
   "outputs": [
    {
     "data": {
      "text/plain": [
       "5"
      ]
     },
     "execution_count": 155,
     "metadata": {},
     "output_type": "execute_result"
    }
   ],
   "source": [
    "z(y, 2)"
   ]
  },
  {
   "cell_type": "markdown",
   "metadata": {},
   "source": [
    "And because a function is an object I can return a function."
   ]
  },
  {
   "cell_type": "code",
   "execution_count": 156,
   "metadata": {
    "collapsed": true
   },
   "outputs": [],
   "source": [
    "def get_func():\n",
    "    def func(y):\n",
    "        return y * 2\n",
    "    return func\n"
   ]
  },
  {
   "cell_type": "code",
   "execution_count": 157,
   "metadata": {
    "collapsed": false
   },
   "outputs": [
    {
     "name": "stdout",
     "output_type": "stream",
     "text": [
      "6\n"
     ]
    }
   ],
   "source": [
    "z = get_func()\n",
    "print z(3)"
   ]
  },
  {
   "cell_type": "markdown",
   "metadata": {
    "collapsed": true
   },
   "source": [
    "A closure is a function that has access to a variable in an enclosing stack frame after it has exited."
   ]
  },
  {
   "cell_type": "code",
   "execution_count": 158,
   "metadata": {
    "collapsed": true
   },
   "outputs": [],
   "source": [
    "def get_factor_func(num):\n",
    "    def get_factors():\n",
    "        z = [x for x in range(1, num+1) if num % x == 0]\n",
    "        return z\n",
    "    return get_factors"
   ]
  },
  {
   "cell_type": "code",
   "execution_count": 159,
   "metadata": {
    "collapsed": true
   },
   "outputs": [],
   "source": [
    "f = get_factor_func(200)  # This doesn't do anything"
   ]
  },
  {
   "cell_type": "code",
   "execution_count": 160,
   "metadata": {
    "collapsed": false
   },
   "outputs": [
    {
     "data": {
      "text/plain": [
       "[1, 2, 4, 5, 8, 10, 20, 25, 40, 50, 100, 200]"
      ]
     },
     "execution_count": 160,
     "metadata": {},
     "output_type": "execute_result"
    }
   ],
   "source": [
    "f()"
   ]
  },
  {
   "cell_type": "markdown",
   "metadata": {},
   "source": [
    "Decorators\n",
    "========="
   ]
  },
  {
   "cell_type": "markdown",
   "metadata": {},
   "source": [
    "Decorators are closures that modify or replace a function's behavior."
   ]
  },
  {
   "cell_type": "code",
   "execution_count": 161,
   "metadata": {
    "collapsed": true
   },
   "outputs": [],
   "source": [
    "def log(f):\n",
    "    def logger(*args, **kwargs):\n",
    "        print \"{} called with args={}, kwargs={}\".format(f.__name__, args, kwargs)\n",
    "        result = f(*args, **kwargs)\n",
    "        print \"{} returned {}\".format(f.__name__, result)\n",
    "        return result\n",
    "    return logger\n",
    "\n"
   ]
  },
  {
   "cell_type": "code",
   "execution_count": 162,
   "metadata": {
    "collapsed": false
   },
   "outputs": [
    {
     "name": "stdout",
     "output_type": "stream",
     "text": [
      "cube called with args=(3,), kwargs={}\n",
      "cube returned 27\n"
     ]
    }
   ],
   "source": [
    "def cube(num):\n",
    "    return num ** 3\n",
    "\n",
    "cube = log(cube)\n",
    "\n",
    "z = cube(3)"
   ]
  },
  {
   "cell_type": "code",
   "execution_count": 163,
   "metadata": {
    "collapsed": false
   },
   "outputs": [
    {
     "name": "stdout",
     "output_type": "stream",
     "text": [
      "cube called with args=(2,), kwargs={}\n",
      "cube returned 8\n"
     ]
    }
   ],
   "source": [
    "@log\n",
    "def cube(num):\n",
    "    return num ** 3\n",
    "\n",
    "z = cube(2)"
   ]
  },
  {
   "cell_type": "markdown",
   "metadata": {},
   "source": [
    "But we can do this with a class too:"
   ]
  },
  {
   "cell_type": "code",
   "execution_count": 164,
   "metadata": {
    "collapsed": true
   },
   "outputs": [],
   "source": [
    "class counter(object):\n",
    "    \"\"\"Returns a count of when a function was called.\"\"\"\n",
    "    \n",
    "    def __init__(self, f):\n",
    "        self.count = 0\n",
    "        self.f = f\n",
    "    \n",
    "    def __call__(self, *args, **kwargs):\n",
    "        self.count += 1\n",
    "        return self.f(*args, **kwargs)\n",
    "    \n",
    "    def get_count(self):\n",
    "        return self.count\n",
    "        \n"
   ]
  },
  {
   "cell_type": "code",
   "execution_count": 165,
   "metadata": {
    "collapsed": false
   },
   "outputs": [
    {
     "name": "stdout",
     "output_type": "stream",
     "text": [
      "10\n"
     ]
    }
   ],
   "source": [
    "@counter\n",
    "def cube(num):\n",
    "    return num ** 3\n",
    "\n",
    "for idx in range(10):\n",
    "    z = cube(idx)\n",
    "\n",
    "print cube.get_count()"
   ]
  },
  {
   "cell_type": "markdown",
   "metadata": {},
   "source": [
    "And there are a few useful cases for this:"
   ]
  },
  {
   "cell_type": "code",
   "execution_count": 166,
   "metadata": {
    "collapsed": false
   },
   "outputs": [],
   "source": [
    "class memoize(object):\n",
    "    \n",
    "    def __init__(self, f):\n",
    "        self.cache = {}\n",
    "        self.f = f\n",
    "    \n",
    "    def __call__(self, *args, **kwargs):\n",
    "        key = (tuple(args), tuple(kwargs))\n",
    "        if key not in self.cache:\n",
    "            self.cache[key] = self.f(*args, **kwargs)\n",
    "        return self.cache[key]\n",
    "    \n",
    "\n",
    "import math\n",
    "\n",
    "@memoize\n",
    "def is_prime(n):\n",
    "    \"\"\"Is n prime?\"\"\"\n",
    "    if n == 1:\n",
    "        return False\n",
    "    if n == 2:\n",
    "        return True\n",
    "    elif n == 3:\n",
    "        return True\n",
    "    else:\n",
    "        for idx in range(1, int(math.sqrt(n))+1):\n",
    "            if is_prime(idx):\n",
    "                if n % idx == 0:\n",
    "                    return False\n",
    "        return True\n",
    "\n",
    "@memoize\n",
    "def prime(n):\n",
    "    \"\"\"Return the nth prime\"\"\"\n",
    "    if n == 1:\n",
    "        return 2\n",
    "    else:\n",
    "        last = prime(n-1)\n",
    "        primality = False\n",
    "        while not primality:\n",
    "            last = last + 1\n",
    "            primality = is_prime(last)\n",
    "        return last\n",
    "    "
   ]
  },
  {
   "cell_type": "code",
   "execution_count": 167,
   "metadata": {
    "collapsed": false
   },
   "outputs": [
    {
     "name": "stdout",
     "output_type": "stream",
     "text": [
      "First Time: 0.00758695602417 s\n",
      "Second Time: 6.29425048828e-05 s\n"
     ]
    }
   ],
   "source": [
    "import time\n",
    "\n",
    "zero = time.time()\n",
    "prime(150)\n",
    "one = time.time()\n",
    "prime(150)\n",
    "two = time.time()\n",
    "\n",
    "print \"First Time: {} s\".format(one-zero)\n",
    "print \"Second Time: {} s\".format(two-one)\n",
    "\n"
   ]
  },
  {
   "cell_type": "code",
   "execution_count": 168,
   "metadata": {
    "collapsed": false
   },
   "outputs": [
    {
     "data": {
      "text/plain": [
       "{((1,), ()): 2,\n",
       " ((2,), ()): 3,\n",
       " ((3,), ()): 5,\n",
       " ((4,), ()): 7,\n",
       " ((5,), ()): 11,\n",
       " ((6,), ()): 13,\n",
       " ((7,), ()): 17,\n",
       " ((8,), ()): 19,\n",
       " \n",
       " [ ... ] \n",
       " \n",
       " ((144,), ()): 827,\n",
       " ((145,), ()): 829,\n",
       " ((146,), ()): 839,\n",
       " ((147,), ()): 853,\n",
       " ((148,), ()): 857,\n",
       " ((149,), ()): 859,\n",
       " ((150,), ()): 863}"
      ]
     },
     "execution_count": 168,
     "metadata": {},
     "output_type": "execute_result"
    }
   ],
   "source": [
    "prime.cache\n"
   ]
  },
  {
   "cell_type": "code",
   "execution_count": 169,
   "metadata": {
    "collapsed": false
   },
   "outputs": [
    {
     "data": {
      "text/plain": [
       "{((1,), ()): False,\n",
       " ((2,), ()): True,\n",
       " ((3,), ()): True,\n",
       " ((4,), ()): False,\n",
       " ((5,), ()): True,\n",
       " ((6,), ()): False,\n",
       " ((7,), ()): True,\n",
       " ((8,), ()): False,\n",
       " ((9,), ()): False,\n",
       " ((10,), ()): False,\n",
       " \n",
       " [ ... ] \n",
       " \n",
       " ((856,), ()): False,\n",
       " ((857,), ()): True,\n",
       " ((858,), ()): False,\n",
       " ((859,), ()): True,\n",
       " ((860,), ()): False,\n",
       " ((861,), ()): False,\n",
       " ((862,), ()): False,\n",
       " ((863,), ()): True}"
      ]
     },
     "execution_count": 169,
     "metadata": {},
     "output_type": "execute_result"
    }
   ],
   "source": [
    "is_prime.cache"
   ]
  },
  {
   "cell_type": "markdown",
   "metadata": {},
   "source": [
    "Types\n",
    "====="
   ]
  },
  {
   "cell_type": "markdown",
   "metadata": {},
   "source": [
    "Let's take a simple class like this:\n"
   ]
  },
  {
   "cell_type": "code",
   "execution_count": 170,
   "metadata": {
    "collapsed": false
   },
   "outputs": [
    {
     "name": "stdout",
     "output_type": "stream",
     "text": [
      "5\n"
     ]
    }
   ],
   "source": [
    "class my_class(object):\n",
    "    thing = 5\n",
    "    \n",
    "print my_class.thing\n"
   ]
  },
  {
   "cell_type": "markdown",
   "metadata": {},
   "source": [
    "But we can also express it this way:\n"
   ]
  },
  {
   "cell_type": "code",
   "execution_count": 171,
   "metadata": {
    "collapsed": false
   },
   "outputs": [
    {
     "name": "stdout",
     "output_type": "stream",
     "text": [
      "5\n"
     ]
    }
   ],
   "source": [
    "my_class = type(\"my_class\", (object,), {\"thing\": 5})\n",
    "\n",
    "print my_class.thing\n"
   ]
  },
  {
   "cell_type": "markdown",
   "metadata": {},
   "source": [
    "Why would we do this?\n",
    "\n",
    "Instead of writing a code generator, it's easier to just generate the classes we need on the fly.\n"
   ]
  },
  {
   "cell_type": "markdown",
   "metadata": {},
   "source": [
    "Syntax\n",
    "------\n",
    "<pre>\n",
    "class_var = type(class_name, subclasses, attributes)\n",
    "</pre>"
   ]
  },
  {
   "cell_type": "markdown",
   "metadata": {},
   "source": [
    "These two classes are equivalent:\n"
   ]
  },
  {
   "cell_type": "code",
   "execution_count": 184,
   "metadata": {
    "collapsed": true
   },
   "outputs": [],
   "source": [
    "class counter(object):\n",
    "    #class level variable\n",
    "    foo = \"bar\"\n",
    "    \n",
    "    #Initializer\n",
    "    def __init__(self):\n",
    "        self.count = 0\n",
    "    \n",
    "    def ping(self):\n",
    "        self.count += 1\n",
    "    \n",
    "    def pong(self):\n",
    "        self.count -= 1"
   ]
  },
  {
   "cell_type": "code",
   "execution_count": 185,
   "metadata": {
    "collapsed": true
   },
   "outputs": [],
   "source": [
    "\n",
    "def my_init(self):\n",
    "    self.count = 0\n",
    "\n",
    "def my_ping(self):\n",
    "    self.count += 1\n",
    "\n",
    "def my_pong(self):\n",
    "    self.count -= 1\n",
    "\n",
    "attributes = { \"__init__\": my_init, \"ping\": my_ping, \"pong\": my_pong, \"foo\": \"bar\"}\n",
    "subclasses = (object,)\n",
    "class_name = \"counter2\"\n",
    "\n",
    "counter2 = type(class_name, subclasses, attributes)\n"
   ]
  },
  {
   "cell_type": "code",
   "execution_count": 186,
   "metadata": {
    "collapsed": false
   },
   "outputs": [
    {
     "data": {
      "text/plain": [
       "1"
      ]
     },
     "execution_count": 186,
     "metadata": {},
     "output_type": "execute_result"
    }
   ],
   "source": [
    "c1 = counter()\n",
    "c1.ping()\n",
    "c1.ping()\n",
    "c1.pong()\n",
    "c1.count"
   ]
  },
  {
   "cell_type": "code",
   "execution_count": 188,
   "metadata": {
    "collapsed": false
   },
   "outputs": [
    {
     "data": {
      "text/plain": [
       "1"
      ]
     },
     "execution_count": 188,
     "metadata": {},
     "output_type": "execute_result"
    }
   ],
   "source": [
    "c2 = counter2()\n",
    "c2.ping()\n",
    "c2.ping()\n",
    "c2.pong()\n",
    "c2.count\n"
   ]
  },
  {
   "cell_type": "markdown",
   "metadata": {},
   "source": [
    "Metaclasses\n",
    "========"
   ]
  },
  {
   "cell_type": "markdown",
   "metadata": {},
   "source": [
    "So that's clear I hope.  So what's a metaclass?  It uses the <pre>\\_\\_metaclass\\_\\_</pre> attribute on the class like this:"
   ]
  },
  {
   "cell_type": "markdown",
   "metadata": {},
   "source": [
    "<pre>\n",
    "class x(object):\n",
    "    __metaclass__ = metaclass_definition\n",
    "</pre>"
   ]
  },
  {
   "cell_type": "markdown",
   "metadata": {},
   "source": [
    "So what's the metaclass definition?\n",
    "\n",
    "Simply put it's a funtion that takes a type definition and returns another type defintion."
   ]
  },
  {
   "cell_type": "code",
   "execution_count": 202,
   "metadata": {
    "collapsed": true
   },
   "outputs": [],
   "source": [
    "def my_meta(class_name, subclasses, attributes):\n",
    "    attributes['foo']='bar'\n",
    "    return type(class_name, subclasses, attributes)"
   ]
  },
  {
   "cell_type": "code",
   "execution_count": 203,
   "metadata": {
    "collapsed": true
   },
   "outputs": [],
   "source": [
    "class Nothing(object):\n",
    "    __metaclass__ = my_meta"
   ]
  },
  {
   "cell_type": "code",
   "execution_count": 204,
   "metadata": {
    "collapsed": false
   },
   "outputs": [
    {
     "data": {
      "text/plain": [
       "'bar'"
      ]
     },
     "execution_count": 204,
     "metadata": {},
     "output_type": "execute_result"
    }
   ],
   "source": [
    "Nothing.foo"
   ]
  },
  {
   "cell_type": "markdown",
   "metadata": {},
   "source": [
    "So my adding the metaclass attribute, we can add possibly interesting things to classes (debugging, profiling, abstraction)."
   ]
  },
  {
   "cell_type": "markdown",
   "metadata": {},
   "source": [
    "To take this one step further, we're going to use a class as our meta:"
   ]
  },
  {
   "cell_type": "code",
   "execution_count": null,
   "metadata": {
    "collapsed": true
   },
   "outputs": [],
   "source": []
  },
  {
   "cell_type": "code",
   "execution_count": 277,
   "metadata": {
    "collapsed": false
   },
   "outputs": [
    {
     "name": "stdout",
     "output_type": "stream",
     "text": [
      "<cls_ts: 1433836359.85, ts: 1433836360.85>\n",
      "<cls_ts: 1433836359.85, ts: 1433836361.85>\n",
      "<cls_ts: 1433836359.85, ts: 1433836362.85>\n",
      "<cls_ts: 1433836359.85, ts: 1433836363.85>\n",
      "<cls_ts: 1433836359.85, ts: 1433836364.86>\n"
     ]
    }
   ],
   "source": [
    "import time\n",
    "class MyMeta(type):\n",
    "    '''Counts the number of times a class has been instantiated'''\n",
    "    \n",
    "    def __new__(cls, name, subclasses, attributes):\n",
    "        \"\"\"Add attributes to the class before the type instantiation\"\"\"\n",
    "\n",
    "        attributes['cls_ts'] = time.time()\n",
    "        return type.__new__(cls, name, subclasses, attributes)\n",
    "    \n",
    "    def __init__(cls, name, subclasses, attributes):\n",
    "        \"\"\"To modify the type after the parent type is created use __init__\"\"\"\n",
    "\n",
    "        def my_init(self, *args, **kwargs):\n",
    "            self.ts = time.time()\n",
    "            return super(self.__class__, self).__init__(*args, **kwargs)\n",
    "        \n",
    "        def my_repr(self, *args, **kwargs):\n",
    "            return \"<cls_ts: {}, ts: {}>\".format(self.cls_ts, self.ts)\n",
    "        \n",
    "        cls.__init__ = my_init\n",
    "        cls.__repr__ = my_repr\n",
    "        type.__init__(cls, name, subclasses, attributes)\n",
    "        \n",
    "        \n",
    "class Z(object):\n",
    "    __metaclass__ = MyMeta\n",
    "\n",
    "for x in range(5):\n",
    "    time.sleep(1)\n",
    "    print Z()\n",
    "                \n",
    "\n",
    "        "
   ]
  },
  {
   "cell_type": "markdown",
   "metadata": {},
   "source": [
    "![Applause](./bender_applause.jpg)"
   ]
  },
  {
   "cell_type": "code",
   "execution_count": null,
   "metadata": {
    "collapsed": true
   },
   "outputs": [],
   "source": []
  }
 ],
 "metadata": {
  "kernelspec": {
   "display_name": "Python 2",
   "language": "python",
   "name": "python2"
  },
  "language_info": {
   "codemirror_mode": {
    "name": "ipython",
    "version": 2
   },
   "file_extension": ".py",
   "mimetype": "text/x-python",
   "name": "python",
   "nbconvert_exporter": "python",
   "pygments_lexer": "ipython2",
   "version": "2.7.6"
  }
 },
 "nbformat": 4,
 "nbformat_minor": 0
}
